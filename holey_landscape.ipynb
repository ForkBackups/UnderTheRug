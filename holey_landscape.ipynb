{
 "cells": [
  {
   "cell_type": "markdown",
   "metadata": {},
   "source": [
    "# Evolution on rugged adaptive landscapes\n",
    "## Obolski, Ram & Hadany\n",
    "## Key Issues Review for Reports on Progress in Physics, 2017\n",
    "\n",
    "This notebook contains text and Python code as the supporting material for\n",
    "\n",
    "> Obolski, Ram & Hadany (2017) Evolution on rugged adaptive landscapes, Reports on Progress in Physics.\n",
    "\n",
    "The most updated version of this notebook is on [GitHub](https://github.com/yoavram/UnderTheRug).\n",
    "\n",
    "To run the notebook you will need Python (v.3.5), Jupyter notebook (v.4.3), NumPy (v1.11), Matplotlib (v.2.0), Seaborn (v.0.7), and Cython (v.0.25); see the [README](https://github.com/yoavram/UnderTheRug/blob/master/README.md) for more instructions."
   ]
  },
  {
   "cell_type": "markdown",
   "metadata": {},
   "source": [
    "# Notebook 3: Holey landscapes\n",
    "\n",
    "The notebook includes code to generate random \"holey landscapes\" and visualize these landscapes."
   ]
  },
  {
   "cell_type": "code",
   "execution_count": 1,
   "metadata": {
    "collapsed": false
   },
   "outputs": [],
   "source": [
    "%matplotlib inline\n",
    "import matplotlib as mpl\n",
    "import matplotlib.pyplot as plt\n",
    "import numpy as np\n",
    "from scipy import ndimage\n",
    "import pandas as pd\n",
    "import seaborn as sns\n",
    "sns.set(\n",
    "    style='ticks',\n",
    "    context='paper',\n",
    "    font_scale=2\n",
    ")\n",
    "\n",
    "red = sns.color_palette('Reds',255)[-1]\n",
    "blue = sns.color_palette('Blues',255)[-1]"
   ]
  },
  {
   "cell_type": "code",
   "execution_count": 2,
   "metadata": {
    "collapsed": true
   },
   "outputs": [],
   "source": [
    "def show(m, cmap='viridis'):\n",
    "    plt.matshow(m, cmap=cmap)\n",
    "    plt.xticks([])\n",
    "    plt.yticks([])"
   ]
  },
  {
   "cell_type": "code",
   "execution_count": 3,
   "metadata": {
    "collapsed": true
   },
   "outputs": [],
   "source": [
    "n = 10\n",
    "d = 2\n",
    "p = 0.2"
   ]
  },
  {
   "cell_type": "code",
   "execution_count": 4,
   "metadata": {
    "collapsed": false
   },
   "outputs": [
    {
     "data": {
      "image/png": "[encoded data removed]",
      "text/plain": [
       "<matplotlib.figure.Figure at 0x11067dc18>"
      ]
     },
     "metadata": {},
     "output_type": "display_data"
    }
   ],
   "source": [
    "shape = (n,) * d\n",
    "r = np.random.rand(*shape)\n",
    "show(r)"
   ]
  },
  {
   "cell_type": "code",
   "execution_count": 5,
   "metadata": {
    "collapsed": false
   },
   "outputs": [
    {
     "data": {
      "image/png": "[encoded data removed]",
      "text/plain": [
       "<matplotlib.figure.Figure at 0x11067da90>"
      ]
     },
     "metadata": {},
     "output_type": "display_data"
    }
   ],
   "source": [
    "m = r < 0.2\n",
    "show(m)"
   ]
  },
  {
   "cell_type": "code",
   "execution_count": 6,
   "metadata": {
    "collapsed": false
   },
   "outputs": [
    {
     "data": {
      "image/png": "[encoded data removed]",
      "text/plain": [
       "<matplotlib.figure.Figure at 0x112902240>"
      ]
     },
     "metadata": {},
     "output_type": "display_data"
    }
   ],
   "source": [
    "labels, k = ndimage.label(m)\n",
    "show(labels, cmap='Set1')"
   ]
  },
  {
   "cell_type": "code",
   "execution_count": 7,
   "metadata": {
    "collapsed": false
   },
   "outputs": [
    {
     "data": {
      "text/plain": [
       "3"
      ]
     },
     "execution_count": 7,
     "metadata": {},
     "output_type": "execute_result"
    }
   ],
   "source": [
    "biggest = max((labels==lbl).sum() for lbl in range(1, k))\n",
    "biggest"
   ]
  },
  {
   "cell_type": "code",
   "execution_count": 8,
   "metadata": {
    "collapsed": false
   },
   "outputs": [
    {
     "data": {
      "text/plain": [
       "0.040000000000000001"
      ]
     },
     "execution_count": 8,
     "metadata": {},
     "output_type": "execute_result"
    }
   ],
   "source": [
    "def biggest_component(n, d, p):\n",
    "    shape = (n,) * d\n",
    "    m = np.random.rand(*shape)\n",
    "    m = m < p\n",
    "    m, k = ndimage.label(m)\n",
    "    if k < 2:\n",
    "        return 0\n",
    "    return max((m == lbl).sum() for lbl in range(1, k)) / m.size\n",
    "\n",
    "biggest_component(n, d, p)"
   ]
  },
  {
   "cell_type": "code",
   "execution_count": 9,
   "metadata": {
    "collapsed": false
   },
   "outputs": [],
   "source": [
    "n = 30\n",
    "d = 3\n",
    "ps  = np.linspace(0.1, 0.5, 50)\n",
    "nsamples = 10\n",
    "biggest = [\n",
    "    [\n",
    "        biggest_component(n, d, p) \n",
    "        for _ in range(nsamples)\n",
    "    ]\n",
    "    for p in ps\n",
    "]"
   ]
  },
  {
   "cell_type": "code",
   "execution_count": 10,
   "metadata": {
    "collapsed": false
   },
   "outputs": [
    {
     "data": {
      "text/html": [
       "<div>\n",
       "<table border=\"1\" class=\"dataframe\">\n",
       "  <thead>\n",
       "    <tr style=\"text-align: right;\">\n",
       "      <th></th>\n",
       "      <th>p</th>\n",
       "      <th>sample</th>\n",
       "      <th>max size</th>\n",
       "    </tr>\n",
       "  </thead>\n",
       "  <tbody>\n",
       "    <tr>\n",
       "      <th>0</th>\n",
       "      <td>0.100000</td>\n",
       "      <td>0</td>\n",
       "      <td>0.000370</td>\n",
       "    </tr>\n",
       "    <tr>\n",
       "      <th>1</th>\n",
       "      <td>0.108163</td>\n",
       "      <td>0</td>\n",
       "      <td>0.000444</td>\n",
       "    </tr>\n",
       "    <tr>\n",
       "      <th>2</th>\n",
       "      <td>0.116327</td>\n",
       "      <td>0</td>\n",
       "      <td>0.000444</td>\n",
       "    </tr>\n",
       "    <tr>\n",
       "      <th>3</th>\n",
       "      <td>0.124490</td>\n",
       "      <td>0</td>\n",
       "      <td>0.000630</td>\n",
       "    </tr>\n",
       "    <tr>\n",
       "      <th>4</th>\n",
       "      <td>0.132653</td>\n",
       "      <td>0</td>\n",
       "      <td>0.000556</td>\n",
       "    </tr>\n",
       "  </tbody>\n",
       "</table>\n",
       "</div>"
      ],
      "text/plain": [
       "          p sample  max size\n",
       "0  0.100000      0  0.000370\n",
       "1  0.108163      0  0.000444\n",
       "2  0.116327      0  0.000444\n",
       "3  0.124490      0  0.000630\n",
       "4  0.132653      0  0.000556"
      ]
     },
     "execution_count": 10,
     "metadata": {},
     "output_type": "execute_result"
    }
   ],
   "source": [
    "df = pd.DataFrame(biggest)\n",
    "df['p'] = ps\n",
    "df = pd.melt(df, id_vars='p', var_name='sample', value_name='max size')\n",
    "df.head()"
   ]
  },
  {
   "cell_type": "code",
   "execution_count": 13,
   "metadata": {
    "collapsed": false
   },
   "outputs": [
    {
     "data": {
      "image/png": "[encoded data removed]",
      "text/plain": [
       "<matplotlib.figure.Figure at 0x110733e48>"
      ]
     },
     "metadata": {},
     "output_type": "display_data"
    }
   ],
   "source": [
    "fig = plt.figure(figsize=(12, 12)) \n",
    "gs = mpl.gridspec.GridSpec(nrows=2, ncols=2)\n",
    "\n",
    "reds = [(1,1,1), (1, 0, 0), (0.25, 0, 0)]\n",
    "red_cm = mpl.colors.LinearSegmentedColormap.from_list(\n",
    "        'red_cm', colors=reds)\n",
    "blues = [(1,1,1), (0, 0, 1), (0, 0, 0.25)]\n",
    "blue_cm = mpl.colors.LinearSegmentedColormap.from_list(\n",
    "        'blue_cm', colors=blues)\n",
    "\n",
    "ax0 = plt.subplot(gs[0, :])\n",
    "ax1 = plt.subplot(gs[1, 0])\n",
    "ax2 = plt.subplot(gs[1, 1])\n",
    "p1 = 0.2\n",
    "p2 = 0.4\n",
    "\n",
    "sns.tsplot(df, time='p', unit='sample', value='max size', ci=99,\n",
    "           color='k', lw=3, ax=ax0)\n",
    "ax0.plot(p1, 0.001, 'o', color=blues[2], markersize=11)\n",
    "ax0.plot(p2, 0.345, 'o', color=reds[2], markersize=11)\n",
    "\n",
    "ax0.axvline(0.31, color='k', ls='--')\n",
    "ax0.text(0.308, 0.52, '$P_c$')\n",
    "ax0.set(\n",
    "    xlabel=('P'),\n",
    "    ylabel=('Relative size of largest component')\n",
    ")\n",
    "\n",
    "shape = (n,) * d\n",
    "m = np.random.rand(*shape)\n",
    "m = m < p1\n",
    "labels, k = ndimage.label(m)\n",
    "largest_comp = max(range(1,k), key=lambda i: (labels==i).sum())\n",
    "labels[(labels>0) & (labels!=largest_comp)] = 1\n",
    "labels[labels==largest_comp] = 2\n",
    "ax1.matshow(labels[0], cmap=blue_cm, vmin=0, vmax=2)\n",
    "patches = [ \n",
    "    mpl.patches.Patch(color=blues[2], label=\"largest\"),\n",
    "    mpl.patches.Patch(color=blues[1], label=\"all other\")\n",
    "]\n",
    "ax1.legend(handles=patches, frameon=True, fancybox=True, loc='lower right', \n",
    "           borderpad=0.5, edgecolor='k', framealpha=0.9, \n",
    "           handlelength=0.5, handletextpad=0.2)\n",
    "ax1.set(\n",
    "    xticks=[], yticks=[]\n",
    ")\n",
    "m = np.random.rand(*shape)\n",
    "m = m < p2\n",
    "labels, k = ndimage.label(m)\n",
    "largest_comp = max(range(1,k), key=lambda i: (labels==i).sum())\n",
    "labels[(labels>0) & (labels!=largest_comp)] = 1\n",
    "labels[labels==largest_comp] = 2\n",
    "ax2.matshow(labels[0], cmap=red_cm , vmin=0, vmax=2)\n",
    "patches = [ \n",
    "    mpl.patches.Patch(color=reds[2], label=\"largest\"),\n",
    "    mpl.patches.Patch(color=reds[1], label=\"all other\")\n",
    "]\n",
    "ax2.legend(handles=patches, frameon=True, fancybox=True, loc='lower right', \n",
    "           borderpad=0.5, edgecolor='k', framealpha=0.9, handlelength=0.5, handletextpad=0.2)\n",
    "ax2.set(\n",
    "    xticks=[], yticks=[]\n",
    ")\n",
    "\n",
    "for ax, letter in zip([ax0, ax1, ax2], 'ABCDEFG'):\n",
    "    ax.annotate(letter, xy=(0.02, 0.91), xycoords='axes fraction', fontsize=36, bbox=dict(fc=\"w\", lw=0, alpha=0.75))\n",
    "\n",
    "fig.tight_layout() \n",
    "sns.despine(ax=ax0)\n",
    "fig.savefig('holey_landscape.tif', dpi=300, papertype='a4')"
   ]
  },
  {
   "cell_type": "markdown",
   "metadata": {},
   "source": [
    "# License\n",
    "\n",
    "<a rel=\"license\" href=\"http://creativecommons.org/licenses/by/4.0/\"><img alt=\"Creative Commons License\" style=\"border-width:0\" src=\"https://i.creativecommons.org/l/by/4.0/88x31.png\" /></a><br />This work is licensed under a <a rel=\"license\" href=\"http://creativecommons.org/licenses/by/4.0/\">Creative Commons Attribution 4.0 International License</a>."
   ]
  }
 ],
 "metadata": {
  "anaconda-cloud": {},
  "kernelspec": {
   "display_name": "Python [conda env:UnderTheRug]",
   "language": "python",
   "name": "conda-env-UnderTheRug-py"
  },
  "language_info": {
   "codemirror_mode": {
    "name": "ipython",
    "version": 3
   },
   "file_extension": ".py",
   "mimetype": "text/x-python",
   "name": "python",
   "nbconvert_exporter": "python",
   "pygments_lexer": "ipython3",
   "version": "3.5.2"
  }
 },
 "nbformat": 4,
 "nbformat_minor": 1
}
