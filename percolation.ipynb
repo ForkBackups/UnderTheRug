{
 "cells": [
  {
   "cell_type": "code",
   "execution_count": 276,
   "metadata": {
    "collapsed": false
   },
   "outputs": [],
   "source": [
    "%matplotlib inline\n",
    "import matplotlib as mpl\n",
    "import matplotlib.pyplot as plt\n",
    "import numpy as np\n",
    "from scipy import ndimage\n",
    "import pandas as pd\n",
    "import seaborn as sns\n",
    "sns.set(\n",
    "    style='ticks',\n",
    "    context='paper',\n",
    "    font_scale=1.5\n",
    ")\n",
    "\n",
    "red = sns.color_palette('Reds',255)[-1]\n",
    "blue = sns.color_palette('Blues',255)[-1]"
   ]
  },
  {
   "cell_type": "code",
   "execution_count": 2,
   "metadata": {
    "collapsed": true
   },
   "outputs": [],
   "source": [
    "def show(m, cmap='viridis'):\n",
    "    plt.matshow(m, cmap=cmap)\n",
    "    plt.xticks([])\n",
    "    plt.yticks([])"
   ]
  },
  {
   "cell_type": "code",
   "execution_count": 168,
   "metadata": {
    "collapsed": true
   },
   "outputs": [],
   "source": [
    "n = 10\n",
    "d = 2\n",
    "p = 0.2"
   ]
  },
  {
   "cell_type": "code",
   "execution_count": 169,
   "metadata": {
    "collapsed": false
   },
   "outputs": [
    {
     "data": {
      "image/png": "[encoded data removed]",
      "text/plain": [
       "<matplotlib.figure.Figure at 0x115326c88>"
      ]
     },
     "metadata": {},
     "output_type": "display_data"
    }
   ],
   "source": [
    "shape = (n,) * d\n",
    "r = np.random.rand(*shape)\n",
    "show(r)"
   ]
  },
  {
   "cell_type": "code",
   "execution_count": 170,
   "metadata": {
    "collapsed": false
   },
   "outputs": [
    {
     "data": {
      "image/png": "[encoded data removed]",
      "text/plain": [
       "<matplotlib.figure.Figure at 0x116430a20>"
      ]
     },
     "metadata": {},
     "output_type": "display_data"
    }
   ],
   "source": [
    "m = r < 0.2\n",
    "show(m)"
   ]
  },
  {
   "cell_type": "code",
   "execution_count": 174,
   "metadata": {
    "collapsed": false
   },
   "outputs": [
    {
     "data": {
      "image/png": "[encoded data removed]",
      "text/plain": [
       "<matplotlib.figure.Figure at 0x11537c2e8>"
      ]
     },
     "metadata": {},
     "output_type": "display_data"
    }
   ],
   "source": [
    "labels, k = ndimage.label(m)\n",
    "show(labels, cmap='Set1')"
   ]
  },
  {
   "cell_type": "code",
   "execution_count": 172,
   "metadata": {
    "collapsed": false
   },
   "outputs": [
    {
     "data": {
      "text/plain": [
       "3"
      ]
     },
     "execution_count": 172,
     "metadata": {},
     "output_type": "execute_result"
    }
   ],
   "source": [
    "biggest = max((labels==lbl).sum() for lbl in range(1, k))\n",
    "biggest"
   ]
  },
  {
   "cell_type": "code",
   "execution_count": 173,
   "metadata": {
    "collapsed": false
   },
   "outputs": [
    {
     "data": {
      "text/plain": [
       "0.050000000000000003"
      ]
     },
     "execution_count": 173,
     "metadata": {},
     "output_type": "execute_result"
    }
   ],
   "source": [
    "def biggest_component(n, d, p):\n",
    "    shape = (n,) * d\n",
    "    m = np.random.rand(*shape)\n",
    "    m = m < p\n",
    "    m, k = ndimage.label(m)\n",
    "    if k < 2:\n",
    "        return 0\n",
    "    return max((m == lbl).sum() for lbl in range(1, k)) / m.size\n",
    "\n",
    "biggest_component(n, d, p)"
   ]
  },
  {
   "cell_type": "code",
   "execution_count": 267,
   "metadata": {
    "collapsed": false
   },
   "outputs": [],
   "source": [
    "n = 30\n",
    "d = 3\n",
    "ps  = np.linspace(0.1, 0.5, 50)\n",
    "nsamples = 10\n",
    "biggest = [\n",
    "    [\n",
    "        biggest_component(n, d, p) \n",
    "        for _ in range(nsamples)\n",
    "    ]\n",
    "    for p in ps\n",
    "]"
   ]
  },
  {
   "cell_type": "code",
   "execution_count": 268,
   "metadata": {
    "collapsed": false
   },
   "outputs": [
    {
     "data": {
      "text/html": [
       "<div>\n",
       "<table border=\"1\" class=\"dataframe\">\n",
       "  <thead>\n",
       "    <tr style=\"text-align: right;\">\n",
       "      <th></th>\n",
       "      <th>p</th>\n",
       "      <th>sample</th>\n",
       "      <th>max size</th>\n",
       "    </tr>\n",
       "  </thead>\n",
       "  <tbody>\n",
       "    <tr>\n",
       "      <th>0</th>\n",
       "      <td>0.100000</td>\n",
       "      <td>0</td>\n",
       "      <td>0.000407</td>\n",
       "    </tr>\n",
       "    <tr>\n",
       "      <th>1</th>\n",
       "      <td>0.108163</td>\n",
       "      <td>0</td>\n",
       "      <td>0.000481</td>\n",
       "    </tr>\n",
       "    <tr>\n",
       "      <th>2</th>\n",
       "      <td>0.116327</td>\n",
       "      <td>0</td>\n",
       "      <td>0.000370</td>\n",
       "    </tr>\n",
       "    <tr>\n",
       "      <th>3</th>\n",
       "      <td>0.124490</td>\n",
       "      <td>0</td>\n",
       "      <td>0.000519</td>\n",
       "    </tr>\n",
       "    <tr>\n",
       "      <th>4</th>\n",
       "      <td>0.132653</td>\n",
       "      <td>0</td>\n",
       "      <td>0.000519</td>\n",
       "    </tr>\n",
       "  </tbody>\n",
       "</table>\n",
       "</div>"
      ],
      "text/plain": [
       "          p sample  max size\n",
       "0  0.100000      0  0.000407\n",
       "1  0.108163      0  0.000481\n",
       "2  0.116327      0  0.000370\n",
       "3  0.124490      0  0.000519\n",
       "4  0.132653      0  0.000519"
      ]
     },
     "execution_count": 268,
     "metadata": {},
     "output_type": "execute_result"
    }
   ],
   "source": [
    "df = pd.DataFrame(biggest)\n",
    "df['p'] = ps\n",
    "df = pd.melt(df, id_vars='p', var_name='sample', value_name='max size')\n",
    "df.head()"
   ]
  },
  {
   "cell_type": "code",
   "execution_count": 277,
   "metadata": {
    "collapsed": false
   },
   "outputs": [
    {
     "data": {
      "image/png": "[encoded data removed]",
      "text/plain": [
       "<matplotlib.figure.Figure at 0x1164bd8d0>"
      ]
     },
     "metadata": {},
     "output_type": "display_data"
    }
   ],
   "source": [
    "fig = plt.figure(figsize=(12, 12)) \n",
    "gs = mpl.gridspec.GridSpec(nrows=2, ncols=2)\n",
    "\n",
    "ax0 = plt.subplot(gs[0, :])\n",
    "ax1 = plt.subplot(gs[1, 0])\n",
    "ax2 = plt.subplot(gs[1, 1])\n",
    "p1 = 0.2\n",
    "p2 = 0.4\n",
    "\n",
    "sns.tsplot(df, time='p', unit='sample', value='max size', color='k', lw=3, ax=ax0)\n",
    "ax0.plot(p1, 0.001, 'o', color=blue, markersize=11)\n",
    "ax0.plot(p2, 0.345, 'o', color=red, markersize=11)\n",
    "\n",
    "ax0.axvline(0.28, color='k', ls='--')\n",
    "ax0.text(0.278, 0.52, '$P_c$')\n",
    "ax0.set(\n",
    "    xlabel=('P'),\n",
    "    ylabel=('Relative size of largest component')\n",
    ")\n",
    "\n",
    "shape = (n,) * d\n",
    "m = np.random.rand(*shape)\n",
    "m = m < p1\n",
    "ax1.matshow(m[0], cmap=mpl.cm.Blues)\n",
    "ax1.set(\n",
    "    xticks=[], yticks=[]\n",
    ")\n",
    "m = np.random.rand(*shape)\n",
    "m = m < p2\n",
    "ax2.matshow(m[0], cmap=mpl.cm.Reds)\n",
    "ax2.set(\n",
    "    xticks=[], yticks=[]\n",
    ")\n",
    "\n",
    "fig.tight_layout() \n",
    "sns.despine(ax=ax0)"
   ]
  }
 ],
 "metadata": {
  "anaconda-cloud": {},
  "kernelspec": {
   "display_name": "Python [conda env:EvolRugAdaptLand2016]",
   "language": "python",
   "name": "conda-env-EvolRugAdaptLand2016-py"
  },
  "language_info": {
   "codemirror_mode": {
    "name": "ipython",
    "version": 3
   },
   "file_extension": ".py",
   "mimetype": "text/x-python",
   "name": "python",
   "nbconvert_exporter": "python",
   "pygments_lexer": "ipython3",
   "version": "3.5.2"
  }
 },
 "nbformat": 4,
 "nbformat_minor": 1
}
